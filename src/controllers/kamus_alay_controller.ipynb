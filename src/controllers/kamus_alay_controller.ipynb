{
 "cells": [
  {
   "cell_type": "code",
   "execution_count": 5,
   "id": "577d1ebe-9e0f-42bd-ae81-dff34f91d108",
   "metadata": {},
   "outputs": [],
   "source": [
    "import pandas as pd # type: ignore"
   ]
  },
  {
   "cell_type": "code",
   "execution_count": 6,
   "id": "6668f65d-08e0-457b-97a2-9318b7a86386",
   "metadata": {},
   "outputs": [
    {
     "data": {
      "text/html": [
       "<div>\n",
       "<style scoped>\n",
       "    .dataframe tbody tr th:only-of-type {\n",
       "        vertical-align: middle;\n",
       "    }\n",
       "\n",
       "    .dataframe tbody tr th {\n",
       "        vertical-align: top;\n",
       "    }\n",
       "\n",
       "    .dataframe thead th {\n",
       "        text-align: right;\n",
       "    }\n",
       "</style>\n",
       "<table border=\"1\" class=\"dataframe\">\n",
       "  <thead>\n",
       "    <tr style=\"text-align: right;\">\n",
       "      <th></th>\n",
       "      <th>anakjakartaasikasik</th>\n",
       "      <th>anak jakarta asyik asyik</th>\n",
       "    </tr>\n",
       "  </thead>\n",
       "  <tbody>\n",
       "    <tr>\n",
       "      <th>0</th>\n",
       "      <td>pakcikdahtua</td>\n",
       "      <td>pak cik sudah tua</td>\n",
       "    </tr>\n",
       "    <tr>\n",
       "      <th>1</th>\n",
       "      <td>pakcikmudalagi</td>\n",
       "      <td>pak cik muda lagi</td>\n",
       "    </tr>\n",
       "    <tr>\n",
       "      <th>2</th>\n",
       "      <td>t3tapjokowi</td>\n",
       "      <td>tetap jokowi</td>\n",
       "    </tr>\n",
       "    <tr>\n",
       "      <th>3</th>\n",
       "      <td>3x</td>\n",
       "      <td>tiga kali</td>\n",
       "    </tr>\n",
       "    <tr>\n",
       "      <th>4</th>\n",
       "      <td>aamiin</td>\n",
       "      <td>amin</td>\n",
       "    </tr>\n",
       "    <tr>\n",
       "      <th>...</th>\n",
       "      <td>...</td>\n",
       "      <td>...</td>\n",
       "    </tr>\n",
       "    <tr>\n",
       "      <th>15161</th>\n",
       "      <td>mendikbud</td>\n",
       "      <td>menteri pendidikan dan kebudayaan</td>\n",
       "    </tr>\n",
       "    <tr>\n",
       "      <th>15162</th>\n",
       "      <td>mendag</td>\n",
       "      <td>menteri perdagangan</td>\n",
       "    </tr>\n",
       "    <tr>\n",
       "      <th>15163</th>\n",
       "      <td>menaker</td>\n",
       "      <td>menteri tenaga kerja</td>\n",
       "    </tr>\n",
       "    <tr>\n",
       "      <th>15164</th>\n",
       "      <td>memetwit</td>\n",
       "      <td>mentwit</td>\n",
       "    </tr>\n",
       "    <tr>\n",
       "      <th>15165</th>\n",
       "      <td>megangin</td>\n",
       "      <td>memegang</td>\n",
       "    </tr>\n",
       "  </tbody>\n",
       "</table>\n",
       "<p>15166 rows × 2 columns</p>\n",
       "</div>"
      ],
      "text/plain": [
       "      anakjakartaasikasik           anak jakarta asyik asyik\n",
       "0            pakcikdahtua                  pak cik sudah tua\n",
       "1          pakcikmudalagi                  pak cik muda lagi\n",
       "2             t3tapjokowi                       tetap jokowi\n",
       "3                      3x                          tiga kali\n",
       "4                  aamiin                               amin\n",
       "...                   ...                                ...\n",
       "15161           mendikbud  menteri pendidikan dan kebudayaan\n",
       "15162              mendag                menteri perdagangan\n",
       "15163             menaker               menteri tenaga kerja\n",
       "15164            memetwit                            mentwit\n",
       "15165            megangin                           memegang\n",
       "\n",
       "[15166 rows x 2 columns]"
      ]
     },
     "execution_count": 6,
     "metadata": {},
     "output_type": "execute_result"
    }
   ],
   "source": [
    "df = pd.read_csv('../archive/new_kamusalay.csv', encoding='latin1')\n",
    "df.head(15166)"
   ]
  },
  {
   "cell_type": "code",
   "execution_count": 9,
   "id": "8aa74337-d21b-4009-8b60-16fba64c4832",
   "metadata": {},
   "outputs": [
    {
     "name": "stdout",
     "output_type": "stream",
     "text": [
      "pak cik sudah tua\n"
     ]
    }
   ],
   "source": [
    "import re\n",
    "\n",
    "text = \"pak cik sudah tua\"\n",
    "\n",
    "# Regex tanpa grup penangkapan\n",
    "regex_without_groups = r\"\\b([A-Za-z]+\\s)+[A-Za-z]+\"\n",
    "match_without_groups = re.match(regex_without_groups, text)\n",
    "if match_without_groups:\n",
    "    print(match_without_groups.group())"
   ]
  }
 ],
 "metadata": {
  "kernelspec": {
   "display_name": "Python 3 (ipykernel)",
   "language": "python",
   "name": "python3"
  },
  "language_info": {
   "codemirror_mode": {
    "name": "ipython",
    "version": 3
   },
   "file_extension": ".py",
   "mimetype": "text/x-python",
   "name": "python",
   "nbconvert_exporter": "python",
   "pygments_lexer": "ipython3",
   "version": "3.12.3"
  }
 },
 "nbformat": 4,
 "nbformat_minor": 5
}
